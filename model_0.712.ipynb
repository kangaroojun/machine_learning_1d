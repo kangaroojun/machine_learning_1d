{
 "cells": [
  {
   "cell_type": "code",
   "execution_count": null,
   "metadata": {},
   "outputs": [],
   "source": [
    "import pandas as pd\n",
    "from sklearn.feature_extraction.text import TfidfVectorizer\n",
    "from sklearn.model_selection import train_test_split\n",
    "from sklearn.naive_bayes import BernoulliNB\n",
    "from sklearn.ensemble import RandomForestClassifier, VotingClassifier\n",
    "from sklearn.metrics import classification_report, f1_score\n",
    "\n",
    "# Load the dataset\n",
    "df = pd.read_csv('./data/train_tfidf_features.csv')\n",
    "\n",
    "# Prepare the data\n",
    "df_feature = df.drop(['label', 'id'], axis=1)\n",
    "df_target = df['label']\n",
    "\n",
    "# Split the data into training and testing sets\n",
    "X_train, X_test, y_train, y_test = train_test_split(df_feature, df_target, test_size=0.2, random_state=42, stratify=df_target)\n",
    "\n",
    "# smote = SMOTE(random_state=42)\n",
    "# X_train, y_train = smote.fit_resample(X_train, y_train)\n",
    "\n",
    "# Initialize the Bernoulli Naive Bayes model\n",
    "\n",
    "# I did my own testing and found the hyperparameters that work best for me but idk if can find a better one or not\n",
    "\n",
    "bnb = BernoulliNB(alpha=1,  binarize=0.1)\n",
    "rf = RandomForestClassifier(n_estimators=400, random_state=42, bootstrap=False)\n",
    "\n",
    "# Define the ensemble model using VotingClassifier\n",
    "ensemble = VotingClassifier(estimators=[('bnb', bnb), ('rf', rf)], voting='soft')  # 'soft' uses predicted probabilities\n",
    "\n",
    "# Predict on the validation set\n",
    "ensemble.fit(X_train, y_train)\n",
    "\n",
    "y_pred = ensemble.predict(X_test)\n",
    "# Print classification report and macro F1 score\n",
    "print(classification_report(y_test, y_pred))\n",
    "print(\"Macro F1 Score:\", f1_score(y_test, y_pred, average='macro'))\n"
   ]
  },
  {
   "cell_type": "code",
   "execution_count": null,
   "metadata": {},
   "outputs": [],
   "source": [
    "df_test = pd.read_csv('./data/test_tfidf_features.csv')\n",
    "df_test.drop('id', axis=1, inplace=True)\n",
    "predictions = ensemble.predict(df_test)\n",
    "predictions_df = pd.DataFrame(predictions, columns=['label'])\n",
    "test_id = pd.read_csv('./data/test_tfidf_features.csv')['id']\n",
    "submission_df = pd.concat([test_id, predictions_df], axis=1)\n",
    "submission_df.to_csv('submission.csv', index=False)"
   ]
  }
 ],
 "metadata": {
  "language_info": {
   "name": "python"
  }
 },
 "nbformat": 4,
 "nbformat_minor": 2
}
